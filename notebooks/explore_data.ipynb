{
 "cells": [
  {
   "cell_type": "code",
   "execution_count": 1,
   "id": "68fc2211-f242-40b9-99e2-2f5bbd9d9370",
   "metadata": {},
   "outputs": [],
   "source": [
    "from ucimlrepo import fetch_ucirepo \n",
    "from pyspark.sql import SparkSession\n",
    "from pyspark.ml.feature import VectorAssembler\n",
    "from pyspark.ml.stat import ChiSquareTest\n",
    "from pyspark.sql.functions import monotonically_increasing_id\n",
    "import os\n"
   ]
  },
  {
   "cell_type": "code",
   "execution_count": 2,
   "id": "b1f0665d-39c0-4046-8762-54b0c0f6d0de",
   "metadata": {},
   "outputs": [],
   "source": [
    "spark_master = os.environ.get(\"SPARK_MASTER_URL\")"
   ]
  },
  {
   "cell_type": "code",
   "execution_count": 3,
   "id": "3eeb6ff5-7520-479a-9d48-3575d19c6f97",
   "metadata": {
    "scrolled": true
   },
   "outputs": [
    {
     "name": "stderr",
     "output_type": "stream",
     "text": [
      "Setting default log level to \"WARN\".\n",
      "To adjust logging level use sc.setLogLevel(newLevel). For SparkR, use setLogLevel(newLevel).\n",
      "25/02/21 06:18:53 WARN NativeCodeLoader: Unable to load native-hadoop library for your platform... using builtin-java classes where applicable\n"
     ]
    }
   ],
   "source": [
    "spark = SparkSession.builder \\\n",
    "    .appName(\"Explore Spark Session\") \\\n",
    "    .master(spark_master) \\\n",
    "    .getOrCreate()"
   ]
  },
  {
   "cell_type": "code",
   "execution_count": 4,
   "id": "55f93ed4-d469-4d00-8cd8-92cc7282ffa3",
   "metadata": {
    "scrolled": true
   },
   "outputs": [],
   "source": [
    "# fetch dataset \n",
    "default_of_credit_card_clients = fetch_ucirepo(id=350) \n",
    "X = spark.createDataFrame(default_of_credit_card_clients.data.features)\n",
    "y = spark.createDataFrame(default_of_credit_card_clients.data.targets)\n",
    "X = X.withColumn(\"id\", monotonically_increasing_id())\n",
    "y = y.withColumn(\"id\", monotonically_increasing_id())\n",
    "X_y = X.join(y,on=\"id\",how=\"inner\")\n"
   ]
  },
  {
   "cell_type": "code",
   "execution_count": 5,
   "id": "ab56ec58-d575-4a51-8293-d03cc390c98a",
   "metadata": {},
   "outputs": [
    {
     "name": "stderr",
     "output_type": "stream",
     "text": [
      "[Stage 10:>                                                         (0 + 1) / 1]"
     ]
    },
    {
     "name": "stdout",
     "output_type": "stream",
     "text": [
      "p-values [4.472755499307368e-12,0.0,8.825862463091028e-08,5.643041589564746e-12,0.0,0.0,0.0,0.0,0.0,0.0]\n",
      "degrees of freedom [1, 6, 3, 55, 10, 10, 10, 10, 9, 9]\n",
      "statistic [47.90543311657916,163.21655786997073,35.66239583433609,158.55290013282715,5365.964977413581,3474.4667904168564,2622.462127682802,2341.469945438205,2197.694900930992,1886.8353090011867]\n"
     ]
    },
    {
     "name": "stderr",
     "output_type": "stream",
     "text": [
      "                                                                                "
     ]
    }
   ],
   "source": [
    "# Chi Squared Test for categorical features VS Target\n",
    "vecAssembler = VectorAssembler(inputCols=[\"X2\",\"X3\",\"X4\",\"X5\",\"X6\",\"X7\",\"X8\",\"X9\",\"X10\",\"X11\"] \\\n",
    "                               ,outputCol=\"features\")\n",
    "chiSqResult = ChiSquareTest.test(vecAssembler.transform(X_y), \"features\", \"Y\").head()\n",
    "print(\"p-values\",chiSqResult.pValues)\n",
    "print(\"degrees of freedom\",chiSqResult.degreesOfFreedom)\n",
    "print(\"statistic\",chiSqResult.statistics)\n"
   ]
  },
  {
   "cell_type": "code",
   "execution_count": 6,
   "id": "e9b107ee-9423-4761-a392-59ea93301a1e",
   "metadata": {},
   "outputs": [
    {
     "data": {
      "text/plain": [
       "Row(pValues=DenseVector([0.0, 0.0, 0.0, 0.0, 0.0, 0.0, 0.0, 0.0, 0.0, 0.0]), degreesOfFreedom=[1, 6, 3, 55, 10, 10, 10, 10, 9, 9], statistics=DenseVector([47.9054, 163.2166, 35.6624, 158.5529, 5365.965, 3474.4668, 2622.4621, 2341.4699, 2197.6949, 1886.8353]))"
      ]
     },
     "execution_count": 6,
     "metadata": {},
     "output_type": "execute_result"
    }
   ],
   "source": [
    "chiSqResult"
   ]
  },
  {
   "cell_type": "markdown",
   "id": "e5c0539a-8295-413b-8f90-e09eddc9949e",
   "metadata": {},
   "source": [
    "# Credit Data Features\n",
    "\n",
    "- **X1: Amount of the given credit (NT dollar):**  \n",
    "  It includes both the individual consumer credit and his/her family (supplementary) credit.\n",
    "  \n",
    "- **X2: Gender:**  \n",
    "  - 1 = male  \n",
    "  - 2 = female\n",
    "\n",
    "- **X3: Education:**  \n",
    "  - 1 = graduate school  \n",
    "  - 2 = university  \n",
    "  - 3 = high school  \n",
    "  - 4 = others\n",
    "\n",
    "- **X4: Marital status:**  \n",
    "  - 1 = married  \n",
    "  - 2 = single  \n",
    "  - 3 = others\n",
    "\n",
    "- **X5: Age (year)**\n",
    "\n",
    "- **X6 - X11: History of past payment:**  \n",
    "  These represent the past monthly payment records from April to September 2005.  \n",
    "  - **X6:** Repayment status in September 2005  \n",
    "  - **X7:** Repayment status in August 2005  \n",
    "  - **X8:** Repayment status in July 2005  \n",
    "  - **X9:** Repayment status in June 2005  \n",
    "  - **X10:** Repayment status in May 2005  \n",
    "  - **X11:** Repayment status in April 2005  \n",
    "\n",
    "  **Measurement Scale for Repayment Status:**  \n",
    "  - -1 = pay duly  \n",
    "  - 1 = payment delay for one month  \n",
    "  - 2 = payment delay for two months  \n",
    "  - ...  \n",
    "  - 8 = payment delay for eight months  \n",
    "  - 9 = payment delay for nine months and above\n",
    "\n",
    "- **X12 - X17: Amount of bill statement (NT dollar):**  \n",
    "  - **X12:** Amount of bill statement in September 2005  \n",
    "  - **X13:** Amount of bill statement in August 2005  \n",
    "  - **X14:** Amount of bill statement in July 2005  \n",
    "  - **X15:** Amount of bill statement in June 2005  \n",
    "  - **X16:** Amount of bill statement in May 2005  \n",
    "  - **X17:** Amount of bill statement in April 2005\n",
    "\n",
    "- **X18 - X23: Amount of previous payment (NT dollar):**  \n",
    "  - **X18:** Amount paid in September 2005  \n",
    "  - **X19:** Amount paid in August 2005  \n",
    "  - **X20:** Amount paid in July 2005  \n",
    "  - **X21:** Amount paid in June 2005  \n",
    "  - **X22:** Amount paid in May 2005  \n",
    "  - **X23:** Amount paid in April 2005\n"
   ]
  },
  {
   "cell_type": "markdown",
   "id": "5759f39c-57a0-4f30-8642-f62559414c06",
   "metadata": {},
   "source": [
    "1. Deal with imbalanced categorical features\n",
    "2. Prepare data for cross-validation"
   ]
  }
 ],
 "metadata": {
  "kernelspec": {
   "display_name": "Python 3 (ipykernel)",
   "language": "python",
   "name": "python3"
  },
  "language_info": {
   "codemirror_mode": {
    "name": "ipython",
    "version": 3
   },
   "file_extension": ".py",
   "mimetype": "text/x-python",
   "name": "python",
   "nbconvert_exporter": "python",
   "pygments_lexer": "ipython3",
   "version": "3.11.4"
  }
 },
 "nbformat": 4,
 "nbformat_minor": 5
}
