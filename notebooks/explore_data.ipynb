{
 "cells": [
  {
   "cell_type": "markdown",
   "id": "add5a245-12a7-4ee5-93bf-be42bc1c4446",
   "metadata": {},
   "source": [
    "### To-Do List\n",
    "\n",
    "- [ ] Cross-validation pipeline\n",
    "- [ ] Chi-Squared Test for categorical variables\n",
    "- [ ] PCA\n",
    "- [ ] Data Bias\n"
   ]
  },
  {
   "cell_type": "code",
   "execution_count": 10,
   "id": "68fc2211-f242-40b9-99e2-2f5bbd9d9370",
   "metadata": {},
   "outputs": [],
   "source": [
    "from ucimlrepo import fetch_ucirepo \n",
    "from pyspark.sql import SparkSession\n",
    "from pyspark.ml.feature import VectorAssembler\n",
    "from pyspark.ml.stat import ChiSquareTest\n",
    "from pyspark.sql.functions import monotonically_increasing_id\n",
    "import os\n",
    "import logging\n"
   ]
  },
  {
   "cell_type": "code",
   "execution_count": 11,
   "id": "b1f0665d-39c0-4046-8762-54b0c0f6d0de",
   "metadata": {},
   "outputs": [],
   "source": [
    "# initialize spark session\n",
    "spark_master = os.environ.get(\"SPARK_MASTER_URL\")\n",
    "spark = SparkSession.builder \\\n",
    "    .appName(\"Explore-Spark-Session\") \\\n",
    "    .master(spark_master) \\\n",
    "    .getOrCreate()\n",
    "\n",
    "logger = logging.getLogger(\"py4j\")\n",
    "logger.setLevel(logging.ERROR)\n"
   ]
  },
  {
   "cell_type": "code",
   "execution_count": 12,
   "id": "3024b7ef-5044-47f6-9e1d-1b579915ea10",
   "metadata": {},
   "outputs": [],
   "source": [
    "# fetch dataset \n",
    "default_of_credit_card_clients = fetch_ucirepo(id=350) \n",
    "X = spark.createDataFrame(default_of_credit_card_clients.data.features)\n",
    "y = spark.createDataFrame(default_of_credit_card_clients.data.targets)\n",
    "\n",
    "# combine X and y\n",
    "X = X.withColumn(\"id\", monotonically_increasing_id())\n",
    "y = y.withColumn(\"id\", monotonically_increasing_id())\n",
    "df = X.join(y, on=\"id\", how=\"inner\").drop(\"id\")\n",
    "\n",
    "# split training and testing data\n",
    "train, test = df.randomSplit([.7,.3], seed=42)\n"
   ]
  },
  {
   "cell_type": "code",
   "execution_count": 5,
   "id": "ab56ec58-d575-4a51-8293-d03cc390c98a",
   "metadata": {
    "scrolled": true
   },
   "outputs": [],
   "source": [
    "# # Chi Squared Test for categorical features VS Target\n",
    "# vecAssembler = VectorAssembler(inputCols=[\"X2\",\"X3\",\"X4\",\"X5\",\"X6\",\"X7\",\"X8\",\"X9\",\"X10\",\"X11\"] \\\n",
    "#                                ,outputCol=\"features\")\n",
    "# chiSqResult = ChiSquareTest.test(vecAssembler.transform(X_y), \"features\", \"Y\").head()\n",
    "# print(\"p-values\",chiSqResult.pValues)\n",
    "# print(\"degrees of freedom\",chiSqResult.degreesOfFreedom)\n",
    "# print(\"statistic\",chiSqResult.statistics)\n",
    "# print(chiSqResult)\n"
   ]
  },
  {
   "cell_type": "code",
   "execution_count": 14,
   "id": "247acaed-a49a-4edf-ac2a-065ab232c51e",
   "metadata": {},
   "outputs": [],
   "source": [
    "spark.stop()"
   ]
  },
  {
   "cell_type": "markdown",
   "id": "e5c0539a-8295-413b-8f90-e09eddc9949e",
   "metadata": {},
   "source": [
    "# Credit Data Features\n",
    "\n",
    "- **X1: Amount of the given credit (NT dollar):**  \n",
    "  It includes both the individual consumer credit and his/her family (supplementary) credit.\n",
    "  \n",
    "- **X2: Gender:**  \n",
    "  - 1 = male  \n",
    "  - 2 = female\n",
    "\n",
    "- **X3: Education:**  \n",
    "  - 1 = graduate school  \n",
    "  - 2 = university  \n",
    "  - 3 = high school  \n",
    "  - 4 = others\n",
    "\n",
    "- **X4: Marital status:**  \n",
    "  - 1 = married  \n",
    "  - 2 = single  \n",
    "  - 3 = others\n",
    "\n",
    "- **X5: Age (year)**\n",
    "\n",
    "- **X6 - X11: History of past payment:**  \n",
    "  These represent the past monthly payment records from April to September 2005.  \n",
    "  - **X6:** Repayment status in September 2005  \n",
    "  - **X7:** Repayment status in August 2005  \n",
    "  - **X8:** Repayment status in July 2005  \n",
    "  - **X9:** Repayment status in June 2005  \n",
    "  - **X10:** Repayment status in May 2005  \n",
    "  - **X11:** Repayment status in April 2005  \n",
    "\n",
    "  **Measurement Scale for Repayment Status:**  \n",
    "  - -1 = pay duly  \n",
    "  - 1 = payment delay for one month  \n",
    "  - 2 = payment delay for two months  \n",
    "  - ...  \n",
    "  - 8 = payment delay for eight months  \n",
    "  - 9 = payment delay for nine months and above\n",
    "\n",
    "- **X12 - X17: Amount of bill statement (NT dollar):**  \n",
    "  - **X12:** Amount of bill statement in September 2005  \n",
    "  - **X13:** Amount of bill statement in August 2005  \n",
    "  - **X14:** Amount of bill statement in July 2005  \n",
    "  - **X15:** Amount of bill statement in June 2005  \n",
    "  - **X16:** Amount of bill statement in May 2005  \n",
    "  - **X17:** Amount of bill statement in April 2005\n",
    "\n",
    "- **X18 - X23: Amount of previous payment (NT dollar):**  \n",
    "  - **X18:** Amount paid in September 2005  \n",
    "  - **X19:** Amount paid in August 2005  \n",
    "  - **X20:** Amount paid in July 2005  \n",
    "  - **X21:** Amount paid in June 2005  \n",
    "  - **X22:** Amount paid in May 2005  \n",
    "  - **X23:** Amount paid in April 2005\n"
   ]
  }
 ],
 "metadata": {
  "kernelspec": {
   "display_name": "Python 3 (ipykernel)",
   "language": "python",
   "name": "python3"
  },
  "language_info": {
   "codemirror_mode": {
    "name": "ipython",
    "version": 3
   },
   "file_extension": ".py",
   "mimetype": "text/x-python",
   "name": "python",
   "nbconvert_exporter": "python",
   "pygments_lexer": "ipython3",
   "version": "3.11.4"
  }
 },
 "nbformat": 4,
 "nbformat_minor": 5
}
