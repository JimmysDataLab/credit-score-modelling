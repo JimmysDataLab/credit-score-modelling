{
 "cells": [
  {
   "cell_type": "markdown",
   "id": "83e5ae7c-2131-4c1d-8c19-e548bb6f3861",
   "metadata": {},
   "source": [
    "### To-Do List\n",
    "\n",
    "- [ ] Read data from repo\n",
    "- [ ] split data with different seeds\n",
    "- [ ] save each train and test for each seed in different folder\n",
    "\n",
    "\n",
    "\n"
   ]
  },
  {
   "cell_type": "code",
   "execution_count": 1,
   "id": "023c906e-49ed-4bd9-9e2e-ecd97f33aaaf",
   "metadata": {},
   "outputs": [],
   "source": [
    "from ucimlrepo import fetch_ucirepo\n",
    "from pyspark.sql import SparkSession\n",
    "from pyspark.sql.functions import monotonically_increasing_id\n",
    "import os"
   ]
  },
  {
   "cell_type": "code",
   "execution_count": 2,
   "id": "0320ff6d-a973-4dbe-8210-8777b4b64bcc",
   "metadata": {},
   "outputs": [],
   "source": [
    "train_path = os.environ.get(\"TRAIN_PATH\")\n",
    "test_path = os.environ.get(\"TEST_PATH\")\n",
    "spark_master = os.environ.get(\"SPARK_MASTER_URL\")\n",
    "\n",
    "SEEDS = [1,2,4,56,42,75,12,56,9]"
   ]
  },
  {
   "cell_type": "code",
   "execution_count": 3,
   "id": "ddc2a107-afd6-4c66-9196-90732cf352ef",
   "metadata": {},
   "outputs": [
    {
     "name": "stderr",
     "output_type": "stream",
     "text": [
      "Setting default log level to \"WARN\".\n",
      "To adjust logging level use sc.setLogLevel(newLevel). For SparkR, use setLogLevel(newLevel).\n",
      "25/02/22 10:56:43 WARN NativeCodeLoader: Unable to load native-hadoop library for your platform... using builtin-java classes where applicable\n"
     ]
    }
   ],
   "source": [
    "# initialize spark session\n",
    "\n",
    "spark = SparkSession.builder \\\n",
    "    .appName(\"Stage-Data\") \\\n",
    "    .master(spark_master) \\\n",
    "    .getOrCreate()"
   ]
  },
  {
   "cell_type": "code",
   "execution_count": 4,
   "id": "917c3559-6d5c-4636-a89e-dad1660490cb",
   "metadata": {},
   "outputs": [],
   "source": [
    "# fetch dataset \n",
    "default_of_credit_card_clients = fetch_ucirepo(id=350) \n",
    "X = spark.createDataFrame(default_of_credit_card_clients.data.features)\n",
    "y = spark.createDataFrame(default_of_credit_card_clients.data.targets)\n",
    "\n",
    "# combine X and y\n",
    "X = X.withColumn(\"id\", monotonically_increasing_id())\n",
    "y = y.withColumn(\"id\", monotonically_increasing_id())\n",
    "df = X.join(y, on=\"id\", how=\"inner\").drop(\"id\")\n"
   ]
  },
  {
   "cell_type": "code",
   "execution_count": 7,
   "id": "994f93b4-dc1e-45b5-9359-e78131e505b6",
   "metadata": {
    "scrolled": true
   },
   "outputs": [],
   "source": [
    "for seed in SEEDS:\n",
    "    if not os.path.exists(os.path.join(train_path,str(seed))) \\\n",
    "                              and not os.path.exists(os.path.join(test_path,str(seed))):\n",
    "        train, test = df.randomSplit([.7,.3], seed=seed)\n",
    "        train.write.mode(\"overwrite\").parquet(os.path.join(train_path,str(seed)))\n",
    "        test.write.mode(\"overwrite\").parquet(os.path.join(test_path,str(seed)))"
   ]
  },
  {
   "cell_type": "code",
   "execution_count": null,
   "id": "5a483fc1-8396-4a14-a868-5c1a5376f3ca",
   "metadata": {},
   "outputs": [],
   "source": [
    "spark.stop()"
   ]
  }
 ],
 "metadata": {
  "kernelspec": {
   "display_name": "Python 3 (ipykernel)",
   "language": "python",
   "name": "python3"
  },
  "language_info": {
   "codemirror_mode": {
    "name": "ipython",
    "version": 3
   },
   "file_extension": ".py",
   "mimetype": "text/x-python",
   "name": "python",
   "nbconvert_exporter": "python",
   "pygments_lexer": "ipython3",
   "version": "3.11.4"
  }
 },
 "nbformat": 4,
 "nbformat_minor": 5
}
