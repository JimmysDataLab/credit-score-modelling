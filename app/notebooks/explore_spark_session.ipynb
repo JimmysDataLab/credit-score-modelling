{
 "cells": [
  {
   "cell_type": "code",
   "execution_count": 11,
   "id": "64f083fb-8a30-4c06-89ee-c0d722456e4e",
   "metadata": {},
   "outputs": [],
   "source": [
    "import os\n",
    "from pyspark.sql import SparkSession\n",
    "from pyarrow import fs"
   ]
  },
  {
   "cell_type": "code",
   "execution_count": 2,
   "id": "79225015-25fc-4cd5-8816-7a36c2ae89df",
   "metadata": {},
   "outputs": [],
   "source": [
    "spark_master = os.environ.get(\"SPARK_MASTER_URL\")\n",
    "hadoop_master = os.environ.get(\"HADOOP_MASTER_URL\")"
   ]
  },
  {
   "cell_type": "code",
   "execution_count": 3,
   "id": "85c92a28-fe6c-4836-9ecd-5896af2bc1e4",
   "metadata": {},
   "outputs": [
    {
     "name": "stdout",
     "output_type": "stream",
     "text": [
      "spark://spark-master:7077\n",
      "hdfs://namenode:9000\n"
     ]
    }
   ],
   "source": [
    "# Requirments\n",
    "#print(f\"{pyspark.__name__}=={pyspark.__version__}\")\n",
    "print(spark_master)\n",
    "print(hadoop_master)\n"
   ]
  },
  {
   "cell_type": "code",
   "execution_count": 5,
   "id": "29c166ed-ec15-447e-a505-2033e60d2636",
   "metadata": {
    "scrolled": true
   },
   "outputs": [
    {
     "name": "stdout",
     "output_type": "stream",
     "text": [
      "3.5.5\n"
     ]
    }
   ],
   "source": [
    "from pyspark.sql import SparkSession\n",
    "\n",
    "spark = SparkSession.builder \\\n",
    "    .appName(\"MySparkApp\") \\\n",
    "    .master(spark_master) \\\n",
    "    .config(\"spark.hadoop.fs.defaultFS\", hadoop_master) \\\n",
    "    .getOrCreate()\n",
    "\n",
    "print(spark.version)"
   ]
  },
  {
   "cell_type": "code",
   "execution_count": 6,
   "id": "41a78504-d961-4177-bd84-f73214b02771",
   "metadata": {},
   "outputs": [
    {
     "data": {
      "text/html": [
       "\n",
       "            <div>\n",
       "                <p><b>SparkSession - in-memory</b></p>\n",
       "                \n",
       "        <div>\n",
       "            <p><b>SparkContext</b></p>\n",
       "\n",
       "            <p><a href=\"http://4617ec1d2108:4040\">Spark UI</a></p>\n",
       "\n",
       "            <dl>\n",
       "              <dt>Version</dt>\n",
       "                <dd><code>v3.5.5</code></dd>\n",
       "              <dt>Master</dt>\n",
       "                <dd><code>spark://spark-master:7077</code></dd>\n",
       "              <dt>AppName</dt>\n",
       "                <dd><code>MySparkApp</code></dd>\n",
       "            </dl>\n",
       "        </div>\n",
       "        \n",
       "            </div>\n",
       "        "
      ],
      "text/plain": [
       "<pyspark.sql.session.SparkSession at 0xffff7012e150>"
      ]
     },
     "execution_count": 6,
     "metadata": {},
     "output_type": "execute_result"
    }
   ],
   "source": [
    "SparkSession.active()"
   ]
  },
  {
   "cell_type": "code",
   "execution_count": 19,
   "id": "901ba340-caba-4b6f-bad3-cc0a445c1d97",
   "metadata": {},
   "outputs": [],
   "source": [
    "spark.stop()"
   ]
  }
 ],
 "metadata": {
  "kernelspec": {
   "display_name": "Python 3 (ipykernel)",
   "language": "python",
   "name": "python3"
  },
  "language_info": {
   "codemirror_mode": {
    "name": "ipython",
    "version": 3
   },
   "file_extension": ".py",
   "mimetype": "text/x-python",
   "name": "python",
   "nbconvert_exporter": "python",
   "pygments_lexer": "ipython3",
   "version": "3.11.4"
  }
 },
 "nbformat": 4,
 "nbformat_minor": 5
}
